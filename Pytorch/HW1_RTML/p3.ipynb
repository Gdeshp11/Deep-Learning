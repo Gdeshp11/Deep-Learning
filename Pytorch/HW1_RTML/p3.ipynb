{
 "cells": [
  {
   "cell_type": "code",
   "execution_count": 589,
   "metadata": {},
   "outputs": [],
   "source": [
    "import numpy as np\n",
    "import pandas as pd\n",
    "import torch\n",
    "import torch.optim as optim\n",
    "import matplotlib.pyplot as plt"
   ]
  },
  {
   "cell_type": "code",
   "execution_count": 590,
   "metadata": {},
   "outputs": [
    {
     "data": {
      "text/html": [
       "<div>\n",
       "<style scoped>\n",
       "    .dataframe tbody tr th:only-of-type {\n",
       "        vertical-align: middle;\n",
       "    }\n",
       "\n",
       "    .dataframe tbody tr th {\n",
       "        vertical-align: top;\n",
       "    }\n",
       "\n",
       "    .dataframe thead th {\n",
       "        text-align: right;\n",
       "    }\n",
       "</style>\n",
       "<table border=\"1\" class=\"dataframe\">\n",
       "  <thead>\n",
       "    <tr style=\"text-align: right;\">\n",
       "      <th></th>\n",
       "      <th>price</th>\n",
       "      <th>area</th>\n",
       "      <th>bedrooms</th>\n",
       "      <th>bathrooms</th>\n",
       "      <th>stories</th>\n",
       "      <th>mainroad</th>\n",
       "      <th>guestroom</th>\n",
       "      <th>basement</th>\n",
       "      <th>hotwaterheating</th>\n",
       "      <th>airconditioning</th>\n",
       "      <th>parking</th>\n",
       "      <th>prefarea</th>\n",
       "      <th>furnishingstatus</th>\n",
       "    </tr>\n",
       "  </thead>\n",
       "  <tbody>\n",
       "    <tr>\n",
       "      <th>0</th>\n",
       "      <td>13300000</td>\n",
       "      <td>7420</td>\n",
       "      <td>4</td>\n",
       "      <td>2</td>\n",
       "      <td>3</td>\n",
       "      <td>yes</td>\n",
       "      <td>no</td>\n",
       "      <td>no</td>\n",
       "      <td>no</td>\n",
       "      <td>yes</td>\n",
       "      <td>2</td>\n",
       "      <td>yes</td>\n",
       "      <td>furnished</td>\n",
       "    </tr>\n",
       "    <tr>\n",
       "      <th>1</th>\n",
       "      <td>12250000</td>\n",
       "      <td>8960</td>\n",
       "      <td>4</td>\n",
       "      <td>4</td>\n",
       "      <td>4</td>\n",
       "      <td>yes</td>\n",
       "      <td>no</td>\n",
       "      <td>no</td>\n",
       "      <td>no</td>\n",
       "      <td>yes</td>\n",
       "      <td>3</td>\n",
       "      <td>no</td>\n",
       "      <td>furnished</td>\n",
       "    </tr>\n",
       "    <tr>\n",
       "      <th>2</th>\n",
       "      <td>12250000</td>\n",
       "      <td>9960</td>\n",
       "      <td>3</td>\n",
       "      <td>2</td>\n",
       "      <td>2</td>\n",
       "      <td>yes</td>\n",
       "      <td>no</td>\n",
       "      <td>yes</td>\n",
       "      <td>no</td>\n",
       "      <td>no</td>\n",
       "      <td>2</td>\n",
       "      <td>yes</td>\n",
       "      <td>semi-furnished</td>\n",
       "    </tr>\n",
       "    <tr>\n",
       "      <th>3</th>\n",
       "      <td>12215000</td>\n",
       "      <td>7500</td>\n",
       "      <td>4</td>\n",
       "      <td>2</td>\n",
       "      <td>2</td>\n",
       "      <td>yes</td>\n",
       "      <td>no</td>\n",
       "      <td>yes</td>\n",
       "      <td>no</td>\n",
       "      <td>yes</td>\n",
       "      <td>3</td>\n",
       "      <td>yes</td>\n",
       "      <td>furnished</td>\n",
       "    </tr>\n",
       "    <tr>\n",
       "      <th>4</th>\n",
       "      <td>11410000</td>\n",
       "      <td>7420</td>\n",
       "      <td>4</td>\n",
       "      <td>1</td>\n",
       "      <td>2</td>\n",
       "      <td>yes</td>\n",
       "      <td>yes</td>\n",
       "      <td>yes</td>\n",
       "      <td>no</td>\n",
       "      <td>yes</td>\n",
       "      <td>2</td>\n",
       "      <td>no</td>\n",
       "      <td>furnished</td>\n",
       "    </tr>\n",
       "  </tbody>\n",
       "</table>\n",
       "</div>"
      ],
      "text/plain": [
       "      price  area  bedrooms  bathrooms  stories mainroad guestroom basement  \\\n",
       "0  13300000  7420         4          2        3      yes        no       no   \n",
       "1  12250000  8960         4          4        4      yes        no       no   \n",
       "2  12250000  9960         3          2        2      yes        no      yes   \n",
       "3  12215000  7500         4          2        2      yes        no      yes   \n",
       "4  11410000  7420         4          1        2      yes       yes      yes   \n",
       "\n",
       "  hotwaterheating airconditioning  parking prefarea furnishingstatus  \n",
       "0              no             yes        2      yes        furnished  \n",
       "1              no             yes        3       no        furnished  \n",
       "2              no              no        2      yes   semi-furnished  \n",
       "3              no             yes        3      yes        furnished  \n",
       "4              no             yes        2       no        furnished  "
      ]
     },
     "execution_count": 590,
     "metadata": {},
     "output_type": "execute_result"
    }
   ],
   "source": [
    "housing = pd.DataFrame(pd.read_csv(\"Housing.csv\")) \n",
    "housing.head()"
   ]
  },
  {
   "cell_type": "code",
   "execution_count": 591,
   "metadata": {},
   "outputs": [
    {
     "data": {
      "text/plain": [
       "545"
      ]
     },
     "execution_count": 591,
     "metadata": {},
     "output_type": "execute_result"
    }
   ],
   "source": [
    "m = len(housing) \n",
    "m"
   ]
  },
  {
   "cell_type": "code",
   "execution_count": 592,
   "metadata": {},
   "outputs": [
    {
     "data": {
      "text/plain": [
       "(545, 13)"
      ]
     },
     "execution_count": 592,
     "metadata": {},
     "output_type": "execute_result"
    }
   ],
   "source": [
    "housing.shape"
   ]
  },
  {
   "cell_type": "code",
   "execution_count": 593,
   "metadata": {},
   "outputs": [
    {
     "data": {
      "text/html": [
       "<div>\n",
       "<style scoped>\n",
       "    .dataframe tbody tr th:only-of-type {\n",
       "        vertical-align: middle;\n",
       "    }\n",
       "\n",
       "    .dataframe tbody tr th {\n",
       "        vertical-align: top;\n",
       "    }\n",
       "\n",
       "    .dataframe thead th {\n",
       "        text-align: right;\n",
       "    }\n",
       "</style>\n",
       "<table border=\"1\" class=\"dataframe\">\n",
       "  <thead>\n",
       "    <tr style=\"text-align: right;\">\n",
       "      <th></th>\n",
       "      <th>area</th>\n",
       "      <th>bedrooms</th>\n",
       "      <th>bathrooms</th>\n",
       "      <th>stories</th>\n",
       "      <th>parking</th>\n",
       "      <th>price</th>\n",
       "    </tr>\n",
       "  </thead>\n",
       "  <tbody>\n",
       "    <tr>\n",
       "      <th>0</th>\n",
       "      <td>7420</td>\n",
       "      <td>4</td>\n",
       "      <td>2</td>\n",
       "      <td>3</td>\n",
       "      <td>2</td>\n",
       "      <td>13300000</td>\n",
       "    </tr>\n",
       "    <tr>\n",
       "      <th>1</th>\n",
       "      <td>8960</td>\n",
       "      <td>4</td>\n",
       "      <td>4</td>\n",
       "      <td>4</td>\n",
       "      <td>3</td>\n",
       "      <td>12250000</td>\n",
       "    </tr>\n",
       "    <tr>\n",
       "      <th>2</th>\n",
       "      <td>9960</td>\n",
       "      <td>3</td>\n",
       "      <td>2</td>\n",
       "      <td>2</td>\n",
       "      <td>2</td>\n",
       "      <td>12250000</td>\n",
       "    </tr>\n",
       "    <tr>\n",
       "      <th>3</th>\n",
       "      <td>7500</td>\n",
       "      <td>4</td>\n",
       "      <td>2</td>\n",
       "      <td>2</td>\n",
       "      <td>3</td>\n",
       "      <td>12215000</td>\n",
       "    </tr>\n",
       "    <tr>\n",
       "      <th>4</th>\n",
       "      <td>7420</td>\n",
       "      <td>4</td>\n",
       "      <td>1</td>\n",
       "      <td>2</td>\n",
       "      <td>2</td>\n",
       "      <td>11410000</td>\n",
       "    </tr>\n",
       "  </tbody>\n",
       "</table>\n",
       "</div>"
      ],
      "text/plain": [
       "   area  bedrooms  bathrooms  stories  parking     price\n",
       "0  7420         4          2        3        2  13300000\n",
       "1  8960         4          4        4        3  12250000\n",
       "2  9960         3          2        2        2  12250000\n",
       "3  7500         4          2        2        3  12215000\n",
       "4  7420         4          1        2        2  11410000"
      ]
     },
     "execution_count": 593,
     "metadata": {},
     "output_type": "execute_result"
    }
   ],
   "source": [
    "\n",
    "num_vars = ['area', 'bedrooms', 'bathrooms', 'stories', 'parking','price'] \n",
    "Newtrain = housing[num_vars] \n",
    "Newtrain.head()"
   ]
  },
  {
   "cell_type": "code",
   "execution_count": 594,
   "metadata": {},
   "outputs": [
    {
     "data": {
      "text/plain": [
       "(545, 6)"
      ]
     },
     "execution_count": 594,
     "metadata": {},
     "output_type": "execute_result"
    }
   ],
   "source": [
    "\n",
    "Newtrain.shape"
   ]
  },
  {
   "cell_type": "code",
   "execution_count": 595,
   "metadata": {},
   "outputs": [
    {
     "data": {
      "text/plain": [
       "tensor([ 3.3600,  5.7400,  5.4600,  2.8700,  3.7450,  5.1100,  4.4450,  9.8000,\n",
       "         5.2850,  6.2930,  3.3600,  3.1500,  4.5430,  3.6400,  3.1500,  5.8100,\n",
       "         7.9800,  3.2900,  4.7530,  8.2950,  3.4650,  7.0700,  4.0600,  6.2300,\n",
       "         3.6750,  4.8930,  2.3800,  3.5700,  4.6200,  4.6550,  2.8000,  3.1150,\n",
       "        10.1500,  3.7100,  3.4650,  4.4730,  2.9400,  5.5650,  2.3800,  4.7950,\n",
       "         3.5000,  3.5000,  6.8600,  3.9900,  5.2500,  3.7100,  2.4850,  2.2330,\n",
       "         3.5000,  5.6000,  3.7800,  2.9400,  7.3500,  4.8300,  7.9625,  6.1950,\n",
       "         4.5150,  3.4300,  1.8900,  4.2000,  2.9400,  5.9430,  5.5300,  4.1300,\n",
       "         4.6130,  6.1600,  5.8800,  6.8950,  3.2200,  4.2000,  7.7000,  3.9200,\n",
       "         4.3050,  3.0800,  3.6400,  4.8300,  3.2900,  4.5500,  4.2000,  5.6000,\n",
       "         3.7800,  3.0870,  4.3400,  2.9400,  4.9000,  7.7000,  2.1000,  3.5000,\n",
       "         4.6900,  5.8730,  5.2500,  4.0250,  9.8700,  5.2150,  5.2500,  4.0600,\n",
       "         5.9500,  4.6900,  3.5000,  6.6290,  3.7730,  3.1430,  6.9300,  3.2900,\n",
       "         9.2400,  3.6400,  8.6800,  3.3600,  4.5500,  3.3600,  5.6000,  2.7300,\n",
       "         4.6900,  3.5000,  4.4800,  3.2900,  7.4200,  4.9000,  4.4030,  5.1100,\n",
       "         4.2000,  3.9200,  8.8550,  3.8360,  4.3820,  2.9400,  4.4030,  2.6600,\n",
       "         6.2650,  6.0830,  4.4730,  2.6040,  4.6900,  2.6600,  2.6600,  3.3950,\n",
       "         4.5150,  6.1075,  4.3050,  3.3530,  4.2000,  3.5000,  4.1930,  4.2700,\n",
       "         3.6330,  4.9000,  2.3800,  4.0985,  2.5200,  6.0900,  8.4000,  4.5500,\n",
       "         4.1650,  3.1188,  5.5230,  2.5200,  3.7730,  3.6400,  3.2900,  1.9600,\n",
       "         6.4400,  6.6500,  5.2500,  3.2900,  2.8350,  3.7030,  4.3400,  3.6050,\n",
       "         6.1950,  3.7100,  3.5000,  4.3190,  3.2340,  5.0050,  3.8500,  4.9560,\n",
       "         4.0075,  3.5000,  6.4050,  7.2450,  5.0400,  2.4080,  3.7800,  2.2400,\n",
       "         2.8700,  5.7400,  7.3500,  5.7400,  4.9700,  3.3600,  4.0600,  6.4750,\n",
       "         3.9900,  6.6500,  3.0100,  3.9200, 12.2150,  6.0830,  3.4300,  4.1650,\n",
       "         4.8650,  3.3320,  4.6200,  6.4750,  6.3000,  5.6000,  5.6000,  6.4400,\n",
       "         6.6850,  3.0800,  5.9500,  4.2700,  3.8500,  8.1200,  4.0250,  4.9000,\n",
       "         3.0100,  3.1290,  6.0900,  8.5400,  2.9400,  4.5150,  3.0100,  5.2500,\n",
       "         6.5100,  5.8100,  4.2000,  5.2500,  5.2500,  3.5000,  4.2000,  3.8850,\n",
       "         3.6750,  4.1230,  7.8750,  4.4030,  2.8000,  7.4900,  3.8500,  6.4190,\n",
       "         4.2700,  7.3430,  2.2750,  3.5350,  4.9350,  3.8500,  5.1450,  4.7600,\n",
       "         4.4100,  5.1100,  5.3200,  9.1000,  3.2550,  3.4300,  7.2100,  4.6200,\n",
       "         2.2750,  3.7030,  5.6000,  3.6400,  5.9500,  6.6150,  6.0200,  4.5150,\n",
       "         4.1650,  5.2430,  4.4800,  4.4730,  8.4000,  3.4300,  7.0000,  3.6750,\n",
       "         4.3750,  6.6500,  5.7400,  1.7500,  5.2150,  4.2770,  3.7730,  4.6200,\n",
       "        12.2500,  5.4600,  8.6450,  4.9000,  3.1500,  3.5000,  3.5000,  7.3500,\n",
       "         3.6750,  4.9000,  4.2000,  7.4200,  3.3600,  9.6810,  3.0100,  3.3950,\n",
       "         7.0350,  4.8300,  3.8150,  3.5000,  8.6450,  3.0450,  4.0600,  5.6000,\n",
       "         3.9900,  4.6900,  6.0900,  3.1150,  4.7600,  2.3100,  5.9500,  7.5600,\n",
       "         5.6525,  3.9900,  6.2300,  4.1300,  3.1500,  4.2350,  6.3000,  3.0100,\n",
       "         7.5250,  2.8700,  3.7800,  6.7900,  6.3000,  7.2100,  6.6150,  5.0750,\n",
       "         8.4630,  4.9070,  6.5100,  4.4800,  4.2000,  5.5650,  2.4500,  3.8500,\n",
       "         2.9400,  4.1930,  3.0030,  5.8660,  4.2700,  4.6900,  2.5200,  4.3400,\n",
       "         5.3900,  8.1900,  2.4500,  2.5900,  6.7550,  3.6400,  3.5000,  4.0950,\n",
       "         4.3400,  8.0430,  3.3250,  6.0200,  7.0700,  7.4550,  5.3830,  2.6600,\n",
       "         4.5850,  3.1500,  5.6000,  4.3400,  2.1000,  4.8930,  2.8350,  6.1250,\n",
       "         3.9200,  8.4000,  3.9200,  4.4800,  3.4930,  6.3000,  7.5600,  4.2700,\n",
       "         2.6600,  2.4500,  2.1000,  3.9200,  4.8300,  6.6500,  5.8100,  2.8350,\n",
       "         5.1100,  1.7500,  5.9500,  1.8900,  9.3100,  3.4650,  5.4600,  3.2550,\n",
       "         3.7100,  3.2900,  3.1150,  4.7950,  5.5300,  2.6600,  4.5500,  1.8550,\n",
       "         5.4950,  4.6200,  6.6500,  3.8850,  3.5000,  7.9100,  3.2200,  2.4500,\n",
       "         4.2000,  4.9000,  5.2500,  5.7750,  2.8700,  7.4200,  2.4500,  4.4800,\n",
       "         3.6400,  3.0100,  5.5300,  4.9000,  5.0400,  3.5700,  2.4850,  4.2000,\n",
       "         3.6400,  5.2150,  2.5900,  5.9500,  3.3250,  6.5800,  2.6600,  4.5500,\n",
       "         4.7600,  1.7500,  4.5500,  3.4300,  5.0400,  4.2000,  3.8500,  4.2700,\n",
       "         3.3600,  4.0075,  6.9300,  3.8500,  3.4300,  4.5500,  8.8900,  3.9900,\n",
       "         6.6500,  3.4230,  2.4500,  1.8200,  5.9500,  5.4600,  4.2000,  3.5700,\n",
       "        13.3000,  4.9700,  2.2750,  5.9500,  9.8000,  5.4250,  4.5430,  2.1350,\n",
       "         3.7800,  8.4000,  3.3950,  6.0200,  3.6050,  4.0950,  3.3600,  7.3500,\n",
       "         3.9200,  7.8400,  9.1000,  5.8730,  3.2900,  5.2290,  2.6530,  4.9000,\n",
       "         5.0330,  3.0100,  4.9000,  5.4950,  4.2000,  3.0800,  2.9610,  3.1500,\n",
       "         4.0600,  3.7100,  8.5750,  6.5100,  6.3000,  5.1450, 12.2500, 10.8500,\n",
       "         3.2200,  4.7670,  5.2500,  3.1500,  7.1400,  2.3450,  4.0250,  3.1500,\n",
       "         4.4100,  8.9600,  4.2000,  3.6400,  9.2400,  6.7200,  2.5900,  2.9750,\n",
       "         8.7500,  8.4000,  3.0800,  3.1500,  3.5000,  2.9400,  2.6530,  5.8030,\n",
       "         2.6950,  5.8800, 11.4100,  3.7800,  2.7300,  4.2350,  6.1950,  8.0809,\n",
       "         3.5000,  4.2000,  6.1600,  5.0400,  4.5850,  5.7400,  4.9000,  2.8525,\n",
       "         1.7672,  4.9000,  5.6000,  4.0950, 10.1500,  4.2000,  3.5700,  3.2200,\n",
       "         6.7900])"
      ]
     },
     "execution_count": 595,
     "metadata": {},
     "output_type": "execute_result"
    }
   ],
   "source": [
    "dataset_np = Newtrain.to_numpy()\n",
    "np.random.shuffle(dataset_np)\n",
    "dataset = torch.tensor(dataset_np)\n",
    "t_c = dataset[:,5] /1000000\n",
    "t_c"
   ]
  },
  {
   "cell_type": "code",
   "execution_count": 596,
   "metadata": {},
   "outputs": [],
   "source": [
    "t_un = dataset[:,:5]\n",
    "t_un = t_un * 0.1\n",
    "W1 = t_un[:,0]\n",
    "W2 = t_un[:,1]\n",
    "W3 = t_un[:,2]\n",
    "W4 = t_un[:,3]\n",
    "W5 = t_un[:,4]"
   ]
  },
  {
   "cell_type": "code",
   "execution_count": 597,
   "metadata": {},
   "outputs": [],
   "source": [
    "def model(t_u, w1, w2, w3, w4, w5, b):\n",
    "    return (W1*w1 + W2*w2 + W3*w3 + W4*w4 + W5*w5 + b) / 100"
   ]
  },
  {
   "cell_type": "code",
   "execution_count": 598,
   "metadata": {},
   "outputs": [],
   "source": [
    "def loss_fn(t_p, t_c):\n",
    "    squared_diffs = (t_p - t_c)**2\n",
    "    return squared_diffs.mean()"
   ]
  },
  {
   "cell_type": "code",
   "execution_count": 599,
   "metadata": {},
   "outputs": [],
   "source": [
    "params = torch.tensor([1.0, 1.0, 1.0, 1.0, 1.0, 0.0], requires_grad=True)\n",
    "learning_rate = 1e-5\n",
    "optimizer = optim.SGD([params], lr=learning_rate)"
   ]
  },
  {
   "cell_type": "code",
   "execution_count": 600,
   "metadata": {},
   "outputs": [
    {
     "data": {
      "text/plain": [
       "tensor([ 3.5090,  5.4100,  3.1560,  6.0040,  3.4840, 11.4150,  3.7540,  5.7600,\n",
       "         4.6070,  6.6080,  4.1250,  3.0740,  4.1050,  3.5250,  9.0080,  5.2070,\n",
       "         9.0120,  5.8860,  6.4470,  4.8890,  3.0650,  6.2490,  5.0010,  5.5080,\n",
       "         3.6040,  3.4300,  3.2680,  3.1560,  5.6870,  3.7510,  2.6570,  3.5040,\n",
       "        16.2100,  4.0440,  5.3250,  3.5160,  3.1560,  4.4090,  2.4810,  8.1110,\n",
       "         5.9050,  3.6560,  6.0060,  3.9660,  8.5270,  6.0250,  3.0060,  5.3050,\n",
       "         4.2460,  4.8100,  3.6040,  2.7040,  6.0070,  6.8700,  6.0100,  5.5100,\n",
       "         3.4570,  4.0040,  1.7060,  2.7550,  3.6070, 15.6070,  3.6590,  4.6390,\n",
       "         4.5180,  5.4570,  6.5080,  7.7080,  3.1260,  4.0860,  6.4910,  2.1520,\n",
       "        10.3650,  3.0940,  2.2820,  6.0470,  2.5040,  3.5250,  5.8070,  5.5080,\n",
       "         4.8260,  8.1050,  4.5090,  5.8570,  3.0060,  6.0120,  3.0070, 12.9490,\n",
       "         9.6760, 11.4690,  5.3070,  5.4080,  8.1090,  7.2070,  8.4080,  4.3280,\n",
       "         3.7070,  5.1780,  3.0420,  6.0070,  6.9380,  4.5060, 13.2050,  6.0650,\n",
       "         7.8070,  3.5760,  7.1630,  3.7550,  2.5560,  4.9680, 10.5050,  4.0070,\n",
       "         3.6380,  3.1270,  8.2550,  3.4880,  7.4460,  5.8040,  2.8860,  6.1050,\n",
       "         4.4150,  3.0060,  6.4280,  3.3560,  4.9570,  3.6670,  4.9270,  2.0050,\n",
       "         6.0080,  4.3100,  6.3650,  2.9140,  6.0050,  2.8050,  3.6380,  3.4570,\n",
       "         3.5250,  3.2490,  4.4050,  2.7050,  3.6470,  7.3550,  3.4570,  2.1810,\n",
       "         3.5270,  4.6540,  2.7950,  3.6050,  2.8850,  8.3810,  8.8810,  3.7670,\n",
       "         4.8470,  2.4030,  6.9050,  3.1850,  2.5290,  4.2860,  3.7990,  3.4280,\n",
       "         8.5920,  6.4280, 10.2750,  3.1870,  3.3070,  5.4540,  6.4570,  4.0040,\n",
       "         6.3580,  4.0540,  7.4290,  4.0360,  3.6470,  8.1560,  4.0840,  2.8080,\n",
       "         4.5060,  4.6070,  4.8090,  9.0110,  6.6050,  3.6390,  2.8630,  1.9550,\n",
       "         3.0440,  5.0070,  5.1610,  4.6480,  7.6910,  4.7540,  4.3450,  7.4170,\n",
       "         4.1060,  4.0470,  3.6400,  3.8220,  7.5110,  9.6270,  1.9570,  4.0530,\n",
       "         4.3540,  2.1510,  2.8750,  3.9670,  6.0110,  5.0080,  6.3670,  5.0060,\n",
       "         6.6080,  4.5060,  7.3280,  7.7750,  2.1810,  6.8490,  3.6390,  6.7250,\n",
       "         3.7560,  5.5000,  6.6240,  6.5500,  6.6210,  9.8650,  4.6040,  3.8070,\n",
       "         6.6770,  4.8070,  4.6080,  4.2670,  6.5480,  2.1420,  4.0080,  3.1880,\n",
       "         3.6340,  6.0650,  6.5560,  4.8870,  3.9650,  6.6110,  3.1870,  6.7560,\n",
       "         4.3670, 11.4480,  3.9760,  3.8570,  5.9540,  2.0210,  3.4160,  9.1720,\n",
       "         4.9050,  3.0070,  7.8070,  6.6090,  3.9340,  3.8550,  6.0100,  5.0160,\n",
       "         3.9730,  3.1260,  5.1420,  5.9660,  6.4250,  4.0080,  8.0070,  3.5170,\n",
       "         4.0880,  6.0550,  4.5190,  3.1690,  7.4860,  3.1910, 11.1810,  5.6440,\n",
       "         3.9060,  6.5080,  5.8090,  3.8560,  3.1890,  3.4080,  8.2570,  4.1650,\n",
       "         9.9690,  6.6080,  4.5680,  4.5260,  3.9920,  3.9960,  3.6450,  6.0080,\n",
       "         3.6340,  5.4070,  2.6190,  7.4500,  3.7240,  6.0110,  2.8390,  3.6440,\n",
       "         6.3710,  4.8190,  3.1550,  3.5170,  8.0560,  3.8040,  5.9090,  4.7080,\n",
       "         4.0550,  5.4050,  6.6070,  3.0050,  6.3280,  3.1840,  7.0270,  6.0110,\n",
       "         6.6690,  6.4870,  6.6060,  5.9900,  6.7540,  2.7920,  7.2090,  5.0810,\n",
       "         6.0100,  5.4070,  8.4050,  4.0070,  9.0060,  7.6910, 10.5070,  5.7250,\n",
       "         6.0090,  4.2070,  8.2580,  5.8900,  2.9590,  5.4080,  3.0050,  3.8540,\n",
       "         4.9640,  8.2580,  8.0540,  4.8050,  6.3640,  4.3250,  3.0050,  4.0820,\n",
       "         6.7180,  5.9690,  7.7040,  3.6040,  6.0100,  2.8570,  9.5090,  3.6870,\n",
       "         3.5090,  7.4910,  4.0450,  6.9060,  8.8850,  4.3080,  6.4560,  2.4350,\n",
       "         4.0070,  3.5040, 10.5090,  1.9130,  3.3650,  5.0020,  4.3570,  6.4270,\n",
       "         8.0870,  7.9610,  5.5070,  4.0080,  4.9060,  6.4060,  6.0080,  6.3650,\n",
       "         3.9380,  3.2160,  2.4060,  3.2950,  4.1670,  5.7070,  5.8370,  2.6450,\n",
       "         3.0060,  2.9150,  6.5350,  3.6530,  6.5590,  2.1520,  6.2190,  4.5040,\n",
       "         3.6060,  2.1510,  3.8560,  7.0060,  3.3080,  4.0050,  5.3260,  2.9950,\n",
       "         7.9870,  3.8890,  6.0080,  3.7850,  3.4850,  6.0110,  2.6890,  4.8450,\n",
       "         3.5260,  4.7750,  9.8100,  6.0090,  3.6340,  6.3340,  3.2450,  4.0470,\n",
       "         3.0050,  3.2480,  6.1080,  4.1250, 10.7060,  4.5100,  4.4060,  5.0460,\n",
       "         3.1860,  4.5090,  4.4040,  6.2620,  4.7820,  6.0090,  3.4850,  3.6460,\n",
       "        10.2460,  3.6240,  8.4120,  2.1520,  7.6090,  5.8560,  5.3090,  4.5060,\n",
       "         3.1060,  3.4670,  8.8880,  7.1580,  2.6160,  5.3680,  4.6090,  4.5070,\n",
       "         4.2680,  4.0440,  3.5040,  3.0060,  6.5470,  6.1070,  5.5060,  4.5040,\n",
       "         7.4310,  4.4210,  1.8400,  7.2370, 13.2080,  6.8300,  4.9980,  3.0040,\n",
       "         5.8360,  5.5090,  4.7920,  6.8060,  4.5040,  5.6040,  3.1910,  6.0110,\n",
       "         7.2690,  6.3690,  6.0090,  5.5080,  4.0440,  7.0920,  4.0060, 12.9070,\n",
       "         4.8040,  3.0960,  2.9770,  2.8260,  2.3310,  2.1660,  3.0050,  1.6560,\n",
       "         3.0100,  3.5880,  8.8090,  3.7680,  4.1100,  7.9860,  8.9750,  7.5090,\n",
       "         4.3760,  3.4280,  5.5060,  4.1010,  6.0080,  3.6440,  3.4670,  3.4560,\n",
       "         3.9740,  8.5110,  2.1530,  4.1390,  3.5100,  5.0280,  3.6070,  4.3600,\n",
       "         4.3280,  7.0100,  4.9640,  3.4530,  3.6100,  3.4870,  3.1890,  7.0070,\n",
       "         4.0040,  7.1670,  7.4290,  3.4260,  6.8040,  6.6560,  5.5080,  7.0110,\n",
       "         5.8840,  7.0080,  4.5080,  3.5440,  3.8470,  6.3670,  4.1010,  5.2080,\n",
       "         2.4050,  6.3070,  6.6070,  4.0460,  8.5930,  4.5050,  3.6440,  4.3260,\n",
       "        12.1000], grad_fn=<DivBackward0>)"
      ]
     },
     "execution_count": 600,
     "metadata": {},
     "output_type": "execute_result"
    }
   ],
   "source": [
    "t_p = model(t_un,*params)\n",
    "t_p"
   ]
  },
  {
   "cell_type": "code",
   "execution_count": 601,
   "metadata": {},
   "outputs": [
    {
     "data": {
      "text/plain": [
       "tensor([ 9.9991e-01,  1.0000e+00,  1.0000e+00,  1.0000e+00,  1.0000e+00,\n",
       "        -7.8112e-08], requires_grad=True)"
      ]
     },
     "execution_count": 601,
     "metadata": {},
     "output_type": "execute_result"
    }
   ],
   "source": [
    "loss = loss_fn(t_p,t_c)\n",
    "\n",
    "loss.backward()\n",
    "\n",
    "optimizer.step()\n",
    "\n",
    "params"
   ]
  },
  {
   "cell_type": "code",
   "execution_count": 602,
   "metadata": {},
   "outputs": [
    {
     "data": {
      "text/plain": [
       "tensor([ 3.5090,  5.4100,  3.1560,  6.0040,  3.4840, 11.4150,  3.7540,  5.7600,\n",
       "         4.6070,  6.6080,  4.1250,  3.0740,  4.1050,  3.5250,  9.0080,  5.2070,\n",
       "         9.0120,  5.8860,  6.4470,  4.8890,  3.0650,  6.2490,  5.0010,  5.5080,\n",
       "         3.6040,  3.4300,  3.2680,  3.1560,  5.6870,  3.7510,  2.6570,  3.5040,\n",
       "        16.2100,  4.0440,  5.3250,  3.5160,  3.1560,  4.4090,  2.4810,  8.1110,\n",
       "         5.9050,  3.6560,  6.0060,  3.9660,  8.5270,  6.0250,  3.0060,  5.3050,\n",
       "         4.2460,  4.8100,  3.6040,  2.7040,  6.0070,  6.8700,  6.0100,  5.5100,\n",
       "         3.4570,  4.0040,  1.7060,  2.7550,  3.6070, 15.6070,  3.6590,  4.6390,\n",
       "         4.5180,  5.4570,  6.5080,  7.7080,  3.1260,  4.0860,  6.4910,  2.1520,\n",
       "        10.3650,  3.0940,  2.2820,  6.0470,  2.5040,  3.5250,  5.8070,  5.5080,\n",
       "         4.8260,  8.1050,  4.5090,  5.8570,  3.0060,  6.0120,  3.0070, 12.9490,\n",
       "         9.6760, 11.4690,  5.3070,  5.4080,  8.1090,  7.2070,  8.4080,  4.3280,\n",
       "         3.7070,  5.1780,  3.0420,  6.0070,  6.9380,  4.5060, 13.2050,  6.0650,\n",
       "         7.8070,  3.5760,  7.1630,  3.7550,  2.5560,  4.9680, 10.5050,  4.0070,\n",
       "         3.6380,  3.1270,  8.2550,  3.4880,  7.4460,  5.8040,  2.8860,  6.1050,\n",
       "         4.4150,  3.0060,  6.4280,  3.3560,  4.9570,  3.6670,  4.9270,  2.0050,\n",
       "         6.0080,  4.3100,  6.3650,  2.9140,  6.0050,  2.8050,  3.6380,  3.4570,\n",
       "         3.5250,  3.2490,  4.4050,  2.7050,  3.6470,  7.3550,  3.4570,  2.1810,\n",
       "         3.5270,  4.6540,  2.7950,  3.6050,  2.8850,  8.3810,  8.8810,  3.7670,\n",
       "         4.8470,  2.4030,  6.9050,  3.1850,  2.5290,  4.2860,  3.7990,  3.4280,\n",
       "         8.5920,  6.4280, 10.2750,  3.1870,  3.3070,  5.4540,  6.4570,  4.0040,\n",
       "         6.3580,  4.0540,  7.4290,  4.0360,  3.6470,  8.1560,  4.0840,  2.8080,\n",
       "         4.5060,  4.6070,  4.8090,  9.0110,  6.6050,  3.6390,  2.8630,  1.9550,\n",
       "         3.0440,  5.0070,  5.1610,  4.6480,  7.6910,  4.7540,  4.3450,  7.4170,\n",
       "         4.1060,  4.0470,  3.6400,  3.8220,  7.5110,  9.6270,  1.9570,  4.0530,\n",
       "         4.3540,  2.1510,  2.8750,  3.9670,  6.0110,  5.0080,  6.3670,  5.0060,\n",
       "         6.6080,  4.5060,  7.3280,  7.7750,  2.1810,  6.8490,  3.6390,  6.7250,\n",
       "         3.7560,  5.5000,  6.6240,  6.5500,  6.6210,  9.8650,  4.6040,  3.8070,\n",
       "         6.6770,  4.8070,  4.6080,  4.2670,  6.5480,  2.1420,  4.0080,  3.1880,\n",
       "         3.6340,  6.0650,  6.5560,  4.8870,  3.9650,  6.6110,  3.1870,  6.7560,\n",
       "         4.3670, 11.4480,  3.9760,  3.8570,  5.9540,  2.0210,  3.4160,  9.1720,\n",
       "         4.9050,  3.0070,  7.8070,  6.6090,  3.9340,  3.8550,  6.0100,  5.0160,\n",
       "         3.9730,  3.1260,  5.1420,  5.9660,  6.4250,  4.0080,  8.0070,  3.5170,\n",
       "         4.0880,  6.0550,  4.5190,  3.1690,  7.4860,  3.1910, 11.1810,  5.6440,\n",
       "         3.9060,  6.5080,  5.8090,  3.8560,  3.1890,  3.4080,  8.2570,  4.1650,\n",
       "         9.9690,  6.6080,  4.5680,  4.5260,  3.9920,  3.9960,  3.6450,  6.0080,\n",
       "         3.6340,  5.4070,  2.6190,  7.4500,  3.7240,  6.0110,  2.8390,  3.6440,\n",
       "         6.3710,  4.8190,  3.1550,  3.5170,  8.0560,  3.8040,  5.9090,  4.7080,\n",
       "         4.0550,  5.4050,  6.6070,  3.0050,  6.3280,  3.1840,  7.0270,  6.0110,\n",
       "         6.6690,  6.4870,  6.6060,  5.9900,  6.7540,  2.7920,  7.2090,  5.0810,\n",
       "         6.0100,  5.4070,  8.4050,  4.0070,  9.0060,  7.6910, 10.5070,  5.7250,\n",
       "         6.0090,  4.2070,  8.2580,  5.8900,  2.9590,  5.4080,  3.0050,  3.8540,\n",
       "         4.9640,  8.2580,  8.0540,  4.8050,  6.3640,  4.3250,  3.0050,  4.0820,\n",
       "         6.7180,  5.9690,  7.7040,  3.6040,  6.0100,  2.8570,  9.5090,  3.6870,\n",
       "         3.5090,  7.4910,  4.0450,  6.9060,  8.8850,  4.3080,  6.4560,  2.4350,\n",
       "         4.0070,  3.5040, 10.5090,  1.9130,  3.3650,  5.0020,  4.3570,  6.4270,\n",
       "         8.0870,  7.9610,  5.5070,  4.0080,  4.9060,  6.4060,  6.0080,  6.3650,\n",
       "         3.9380,  3.2160,  2.4060,  3.2950,  4.1670,  5.7070,  5.8370,  2.6450,\n",
       "         3.0060,  2.9150,  6.5350,  3.6530,  6.5590,  2.1520,  6.2190,  4.5040,\n",
       "         3.6060,  2.1510,  3.8560,  7.0060,  3.3080,  4.0050,  5.3260,  2.9950,\n",
       "         7.9870,  3.8890,  6.0080,  3.7850,  3.4850,  6.0110,  2.6890,  4.8450,\n",
       "         3.5260,  4.7750,  9.8100,  6.0090,  3.6340,  6.3340,  3.2450,  4.0470,\n",
       "         3.0050,  3.2480,  6.1080,  4.1250, 10.7060,  4.5100,  4.4060,  5.0460,\n",
       "         3.1860,  4.5090,  4.4040,  6.2620,  4.7820,  6.0090,  3.4850,  3.6460,\n",
       "        10.2460,  3.6240,  8.4120,  2.1520,  7.6090,  5.8560,  5.3090,  4.5060,\n",
       "         3.1060,  3.4670,  8.8880,  7.1580,  2.6160,  5.3680,  4.6090,  4.5070,\n",
       "         4.2680,  4.0440,  3.5040,  3.0060,  6.5470,  6.1070,  5.5060,  4.5040,\n",
       "         7.4310,  4.4210,  1.8400,  7.2370, 13.2080,  6.8300,  4.9980,  3.0040,\n",
       "         5.8360,  5.5090,  4.7920,  6.8060,  4.5040,  5.6040,  3.1910,  6.0110,\n",
       "         7.2690,  6.3690,  6.0090,  5.5080,  4.0440,  7.0920,  4.0060, 12.9070,\n",
       "         4.8040,  3.0960,  2.9770,  2.8260,  2.3310,  2.1660,  3.0050,  1.6560,\n",
       "         3.0100,  3.5880,  8.8090,  3.7680,  4.1100,  7.9860,  8.9750,  7.5090,\n",
       "         4.3760,  3.4280,  5.5060,  4.1010,  6.0080,  3.6440,  3.4670,  3.4560,\n",
       "         3.9740,  8.5110,  2.1530,  4.1390,  3.5100,  5.0280,  3.6070,  4.3600,\n",
       "         4.3280,  7.0100,  4.9640,  3.4530,  3.6100,  3.4870,  3.1890,  7.0070,\n",
       "         4.0040,  7.1670,  7.4290,  3.4260,  6.8040,  6.6560,  5.5080,  7.0110,\n",
       "         5.8840,  7.0080,  4.5080,  3.5440,  3.8470,  6.3670,  4.1010,  5.2080,\n",
       "         2.4050,  6.3070,  6.6070,  4.0460,  8.5930,  4.5050,  3.6440,  4.3260,\n",
       "        12.1000], grad_fn=<DivBackward0>)"
      ]
     },
     "execution_count": 602,
     "metadata": {},
     "output_type": "execute_result"
    }
   ],
   "source": [
    "params = torch.tensor([1.0, 1.0, 1.0, 1.0, 1.0, 0.0], requires_grad=True)\n",
    "optimizer = optim.SGD([params], lr=learning_rate)\n",
    "\n",
    "t_p = model(t_un, *params)\n",
    "loss = loss_fn(t_p, t_c)\n",
    "\n",
    "optimizer.zero_grad() # <1>\n",
    "loss.backward()\n",
    "optimizer.step()\n",
    "\n",
    "params\n",
    "t_p"
   ]
  },
  {
   "cell_type": "code",
   "execution_count": 603,
   "metadata": {},
   "outputs": [],
   "source": [
    "def training_loop(n_epochs, optimizer, params, t_u, t_c):\n",
    "    for epoch in range(1, n_epochs + 1):\n",
    "        t_p = model(t_u, *params) \n",
    "        loss = loss_fn(t_p, t_c)\n",
    "        \n",
    "        optimizer.zero_grad()\n",
    "        loss.backward()\n",
    "        optimizer.step()\n",
    "\n",
    "        if epoch % 500 == 0:\n",
    "            print('Epoch %d, Loss %f' % (epoch, float(loss)))\n",
    "            \n",
    "    return params"
   ]
  },
  {
   "cell_type": "code",
   "execution_count": 604,
   "metadata": {},
   "outputs": [
    {
     "name": "stdout",
     "output_type": "stream",
     "text": [
      "Epoch 500, Loss 3.340784\n",
      "Epoch 1000, Loss 3.339512\n",
      "Epoch 1500, Loss 3.339506\n",
      "Epoch 2000, Loss 3.339503\n",
      "Epoch 2500, Loss 3.339499\n",
      "Epoch 3000, Loss 3.339496\n",
      "Epoch 3500, Loss 3.339493\n",
      "Epoch 4000, Loss 3.339490\n",
      "Epoch 4500, Loss 3.339486\n",
      "Epoch 5000, Loss 3.339483\n"
     ]
    },
    {
     "data": {
      "text/plain": [
       "tensor([0.8546, 1.0011, 1.0006, 1.0012, 1.0005, 0.0033], requires_grad=True)"
      ]
     },
     "execution_count": 604,
     "metadata": {},
     "output_type": "execute_result"
    }
   ],
   "source": [
    "params = torch.tensor([1.0, 1.0, 1.0, 1.0, 1.0, 0.0], requires_grad=True)\n",
    "learning_rate = 1e-4\n",
    "optimizer = optim.SGD([params], lr=learning_rate) # <1>\n",
    "\n",
    "training_loop(\n",
    "    n_epochs = 5000, \n",
    "    optimizer = optimizer,\n",
    "    params = params, # <1> \n",
    "    t_u = t_un,\n",
    "    t_c = t_c)"
   ]
  },
  {
   "cell_type": "code",
   "execution_count": 605,
   "metadata": {},
   "outputs": [
    {
     "name": "stdout",
     "output_type": "stream",
     "text": [
      "Epoch 500, Loss 3.339483\n",
      "Epoch 1000, Loss 3.339448\n",
      "Epoch 1500, Loss 3.339415\n",
      "Epoch 2000, Loss 3.339381\n",
      "Epoch 2500, Loss 3.339348\n",
      "Epoch 3000, Loss 3.339314\n",
      "Epoch 3500, Loss 3.339281\n",
      "Epoch 4000, Loss 3.339247\n",
      "Epoch 4500, Loss 3.339213\n",
      "Epoch 5000, Loss 3.339180\n"
     ]
    },
    {
     "data": {
      "text/plain": [
       "tensor([0.8545, 1.0136, 1.0077, 1.0119, 1.0030, 0.0356], requires_grad=True)"
      ]
     },
     "execution_count": 605,
     "metadata": {},
     "output_type": "execute_result"
    }
   ],
   "source": [
    "params = torch.tensor([1.0, 1.0, 1.0, 1.0, 1.0, 0.0], requires_grad=True)\n",
    "learning_rate = 1e-3\n",
    "optimizer = optim.SGD([params], lr=learning_rate) # <1>\n",
    "\n",
    "training_loop(\n",
    "    n_epochs = 5000, \n",
    "    optimizer = optimizer,\n",
    "    params = params, # <1> \n",
    "    t_u = t_un,\n",
    "    t_c = t_c)\n"
   ]
  },
  {
   "cell_type": "code",
   "execution_count": 606,
   "metadata": {},
   "outputs": [
    {
     "name": "stdout",
     "output_type": "stream",
     "text": [
      "Epoch 500, Loss 3.339180\n",
      "Epoch 1000, Loss 3.338845\n",
      "Epoch 1500, Loss 3.338509\n",
      "Epoch 2000, Loss 3.338173\n",
      "Epoch 2500, Loss 3.337837\n",
      "Epoch 3000, Loss 3.337502\n",
      "Epoch 3500, Loss 3.337167\n",
      "Epoch 4000, Loss 3.336832\n",
      "Epoch 4500, Loss 3.336496\n",
      "Epoch 5000, Loss 3.336161\n"
     ]
    },
    {
     "data": {
      "text/plain": [
       "tensor([0.8538, 1.1358, 1.0763, 1.1192, 1.0304, 0.3580], requires_grad=True)"
      ]
     },
     "execution_count": 606,
     "metadata": {},
     "output_type": "execute_result"
    }
   ],
   "source": [
    "params = torch.tensor([1.0, 1.0, 1.0, 1.0, 1.0, 0.0], requires_grad=True)\n",
    "learning_rate = 1e-2\n",
    "optimizer = optim.SGD([params], lr=learning_rate) # <1>\n",
    "\n",
    "training_loop(\n",
    "    n_epochs = 5000, \n",
    "    optimizer = optimizer,\n",
    "    params = params, # <1> \n",
    "    t_u = t_un,\n",
    "    t_c = t_c)"
   ]
  },
  {
   "cell_type": "code",
   "execution_count": 607,
   "metadata": {},
   "outputs": [
    {
     "name": "stdout",
     "output_type": "stream",
     "text": [
      "Epoch 500, Loss nan\n",
      "Epoch 1000, Loss nan\n",
      "Epoch 1500, Loss nan\n",
      "Epoch 2000, Loss nan\n",
      "Epoch 2500, Loss nan\n",
      "Epoch 3000, Loss nan\n",
      "Epoch 3500, Loss nan\n",
      "Epoch 4000, Loss nan\n",
      "Epoch 4500, Loss nan\n",
      "Epoch 5000, Loss nan\n"
     ]
    },
    {
     "data": {
      "text/plain": [
       "tensor([nan, nan, nan, nan, nan, nan], requires_grad=True)"
      ]
     },
     "execution_count": 607,
     "metadata": {},
     "output_type": "execute_result"
    }
   ],
   "source": [
    "params = torch.tensor([1.0, 1.0, 1.0, 1.0, 1.0, 0.0], requires_grad=True)\n",
    "learning_rate = 1e-1\n",
    "optimizer = optim.SGD([params], lr=learning_rate) # <1>\n",
    "\n",
    "training_loop(\n",
    "    n_epochs = 5000, \n",
    "    optimizer = optimizer,\n",
    "    params = params, # <1> \n",
    "    t_u = t_un,\n",
    "    t_c = t_c)"
   ]
  },
  {
   "cell_type": "code",
   "execution_count": 608,
   "metadata": {},
   "outputs": [
    {
     "data": {
      "image/png": "[encoded data removed]",
      "text/plain": [
       "<Figure size 432x288 with 1 Axes>"
      ]
     },
     "metadata": {
      "needs_background": "light"
     },
     "output_type": "display_data"
    }
   ],
   "source": [
    "import matplotlib.pyplot as plt\n",
    "torch.Tensor.ndim = property(lambda self: len(self.shape)) \n",
    "x = list(range(0, m))\n",
    "plt.xlabel(\"Number of Houses\")\n",
    "plt.ylabel(\"Predicted/Actual Prices (*1e+6)\")\n",
    "plt.plot(x, t_p.detach().numpy())\n",
    "plt.plot(x, t_c)\n",
    "plt.show()"
   ]
  }
 ],
 "metadata": {
  "interpreter": {
   "hash": "31f2aee4e71d21fbe5cf8b01ff0e069b9275f58929596ceb00d14d90e3e16cd6"
  },
  "kernelspec": {
   "display_name": "Python 3.8.10 64-bit",
   "language": "python",
   "name": "python3"
  },
  "language_info": {
   "codemirror_mode": {
    "name": "ipython",
    "version": 3
   },
   "file_extension": ".py",
   "mimetype": "text/x-python",
   "name": "python",
   "nbconvert_exporter": "python",
   "pygments_lexer": "ipython3",
   "version": "3.8.10"
  },
  "orig_nbformat": 4
 },
 "nbformat": 4,
 "nbformat_minor": 2
}
